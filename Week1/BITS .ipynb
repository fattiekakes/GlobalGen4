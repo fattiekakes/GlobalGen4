{
 "cells": [
  {
   "cell_type": "raw",
   "id": "32f89e2c",
   "metadata": {},
   "source": [
    "191. Number of 1 Bits"
   ]
  },
  {
   "cell_type": "code",
   "execution_count": null,
   "id": "b95052e5",
   "metadata": {},
   "outputs": [],
   "source": [
    "class Solution:\n",
    "    def hammingWeight(self, n):\n",
    "        return bin(n).count('1')"
   ]
  },
  {
   "cell_type": "raw",
   "id": "c73db82e",
   "metadata": {},
   "source": [
    "231. Power of Two"
   ]
  },
  {
   "cell_type": "code",
   "execution_count": null,
   "id": "a36ba838",
   "metadata": {},
   "outputs": [],
   "source": [
    "class Solution(object):\n",
    "    def isPowerOfTwo(self, n):\n",
    "        if (n <= 0):\n",
    "            return n > 0;\n",
    "        while (n%2 == 0):\n",
    "            n/=2;\n",
    "        return (n&(n-1)) == 0"
   ]
  }
 ],
 "metadata": {
  "kernelspec": {
   "display_name": "Python 3",
   "language": "python",
   "name": "python3"
  },
  "language_info": {
   "codemirror_mode": {
    "name": "ipython",
    "version": 3
   },
   "file_extension": ".py",
   "mimetype": "text/x-python",
   "name": "python",
   "nbconvert_exporter": "python",
   "pygments_lexer": "ipython3",
   "version": "3.8.8"
  }
 },
 "nbformat": 4,
 "nbformat_minor": 5
}
