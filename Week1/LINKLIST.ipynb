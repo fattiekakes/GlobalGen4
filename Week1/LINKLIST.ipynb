{
 "cells": [
  {
   "cell_type": "raw",
   "id": "289a8d25",
   "metadata": {},
   "source": [
    "78. Subsets"
   ]
  },
  {
   "cell_type": "code",
   "execution_count": null,
   "id": "168622f8",
   "metadata": {},
   "outputs": [],
   "source": [
    "class Solution(object):\n",
    "    def subsets(self, nums):\n",
    "        result = [[]]\n",
    "        for num in nums:\n",
    "            result += [i + [num] for i in result]\n",
    "        return result"
   ]
  },
  {
   "cell_type": "raw",
   "id": "04dfb814",
   "metadata": {},
   "source": [
    "905. Sort Array By Parity"
   ]
  },
  {
   "cell_type": "code",
   "execution_count": null,
   "id": "9f0bb9f9",
   "metadata": {},
   "outputs": [],
   "source": [
    "class Solution:\n",
    "    def sortArrayByParity(self, A):\n",
    "        i, j = 0, len(A) - 1\n",
    "        while i < j:\n",
    "            if A[i] % 2 > A[j] % 2:\n",
    "                A[i], A[j] = A[j], A[i]\n",
    "            if A[i] % 2 == 0: i += 1\n",
    "            if A[j] % 2 == 1: j -= 1\n",
    "        return A"
   ]
  }
 ],
 "metadata": {
  "kernelspec": {
   "display_name": "Python 3",
   "language": "python",
   "name": "python3"
  },
  "language_info": {
   "codemirror_mode": {
    "name": "ipython",
    "version": 3
   },
   "file_extension": ".py",
   "mimetype": "text/x-python",
   "name": "python",
   "nbconvert_exporter": "python",
   "pygments_lexer": "ipython3",
   "version": "3.8.8"
  }
 },
 "nbformat": 4,
 "nbformat_minor": 5
}
