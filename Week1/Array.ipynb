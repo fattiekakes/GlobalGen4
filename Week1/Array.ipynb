{
 "cells": [
  {
   "attachments": {},
   "cell_type": "raw",
   "id": "fe927cf9",
   "metadata": {},
   "source": [
    "1480. Running Sum of 1d Array"
   ]
  },
  {
   "cell_type": "code",
   "execution_count": null,
   "id": "9610b599",
   "metadata": {},
   "outputs": [],
   "source": [
    "class Solution:\n",
    "    def runningSum(self, nums):\n",
    "        return [sum(nums[:i+1]) for i in range(len(nums))]"
   ]
  },
  {
   "cell_type": "raw",
   "id": "fee6482b",
   "metadata": {},
   "source": [
    "303. Range Sum Query - Immutable# "
   ]
  },
  {
   "cell_type": "code",
   "execution_count": null,
   "id": "a4170777",
   "metadata": {},
   "outputs": [],
   "source": [
    "class NumArray:\n",
    "    def __init__(self, nums):\n",
    "        self.accu = [0]\n",
    "        for x in nums: \n",
    "            self.accu += self.accu[-1] + x,\n",
    "\n",
    "    def sumRange(self, i, j):\n",
    "        return self.accu[j + 1] - self.accu[i]"
   ]
  },
  {
   "cell_type": "raw",
   "id": "007b0b2c",
   "metadata": {},
   "source": [
    "304. Range Sum Query 2D - Immutable"
   ]
  },
  {
   "cell_type": "code",
   "execution_count": 1,
   "id": "9420b073",
   "metadata": {},
   "outputs": [],
   "source": [
    "class NumMatrix:\n",
    "    def __init__(self, matrix):\n",
    "        x = len(matrix)\n",
    "        y = len(matrix[0])\n",
    "        self.dp = [[0] * (x+1) for _ in range(y+1)] \n",
    "        for c, r in product(range(x), range(y)):\n",
    "            self.dp[r+1][c+1] = self.dp[r+1][c] + self.dp[r][c+1] - self.dp[r][c] + matrix[r][c]\n",
    "    \n",
    "    def sumRegion(self, r1, c1, r2, c2):\n",
    "        return self.dp[r2+1][c2+1] - self.dp[r1][c2+1] - self.dp[r2+1][c1] + self.dp[r1][c1]"
   ]
  },
  {
   "cell_type": "raw",
   "id": "eeb75f16",
   "metadata": {},
   "source": [
    "283. Move Zeroes"
   ]
  },
  {
   "cell_type": "code",
   "execution_count": null,
   "id": "8c19beb8",
   "metadata": {},
   "outputs": [],
   "source": [
    "class Solution(object):\n",
    "    def moveZeroes(self, nums):\n",
    "        i = 0\n",
    "        for j in range(len(nums)):\n",
    "            if nums[j] != 0:\n",
    "                nums[i], nums[j] = nums[j], nums[i]\n",
    "                i += 1"
   ]
  },
  {
   "cell_type": "markdown",
   "id": "ed680bae",
   "metadata": {},
   "source": [
    "75. Sort Colors"
   ]
  },
  {
   "cell_type": "code",
   "execution_count": null,
   "id": "c5f0a9e0",
   "metadata": {},
   "outputs": [],
   "source": [
    "class Solution:\n",
    "    def sortColors(self, nums):\n",
    "        r, w, b = 0, 0, len(nums)-1\n",
    "\n",
    "        while w <= b:\n",
    "            if nums[w] == 0:\n",
    "                nums[r], nums[w] = nums[w], nums[r]\n",
    "                w += 1\n",
    "                r += 1\n",
    "            elif nums[w] == 1:\n",
    "                w += 1\n",
    "            else:\n",
    "                nums[w], nums[b] = nums[b], nums[w]\n",
    "                b -= 1"
   ]
  },
  {
   "cell_type": "raw",
   "id": "fef275cb",
   "metadata": {},
   "source": [
    "922. Sort Array By Parity II"
   ]
  },
  {
   "cell_type": "raw",
   "id": "67b14120",
   "metadata": {},
   "source": [
    "class Solution:\n",
    "    def sortArrayByParityII(self, nums):\n",
    "        j = 1\n",
    "        for i in xrange(0, len(nums), 2):\n",
    "            if nums[i] % 2:\n",
    "                while nums[j] % 2:\n",
    "                    j += 2\n",
    "                nums[i], nums[j] = nums[j], nums[i]\n",
    "        return nums"
   ]
  },
  {
   "cell_type": "raw",
   "id": "9671bb99",
   "metadata": {},
   "source": [
    "206. Reverse Linked List"
   ]
  },
  {
   "cell_type": "code",
   "execution_count": null,
   "id": "6e8eb267",
   "metadata": {},
   "outputs": [],
   "source": [
    "class Solution:\n",
    "    def reverseList(self, head):\n",
    "        pre, cur = None, head\n",
    "        while cur:\n",
    "            cur.next, pre, cur = pre, cur, cur.next\n",
    "        return pre"
   ]
  },
  {
   "cell_type": "raw",
   "id": "1e87d857",
   "metadata": {},
   "source": [
    "876. Middle of the Linked List"
   ]
  },
  {
   "cell_type": "code",
   "execution_count": null,
   "id": "96a05978",
   "metadata": {},
   "outputs": [],
   "source": [
    "class Solution:\n",
    "    def middleNode(self, head):\n",
    "        slow = fast = head\n",
    "        while fast and fast.next:\n",
    "            slow = slow.next\n",
    "            fast = fast.next.next\n",
    "        return slow\n"
   ]
  },
  {
   "cell_type": "code",
   "execution_count": null,
   "id": "e7909d32",
   "metadata": {},
   "outputs": [],
   "source": [
    "141. Linked List Cycle"
   ]
  },
  {
   "cell_type": "code",
   "execution_count": null,
   "id": "7528160d",
   "metadata": {},
   "outputs": [],
   "source": [
    "class Solution:\n",
    "    def hasCycle(self, head):\n",
    "        slow = fast = head\n",
    "        while fast and fast.next:\n",
    "            fast = fast.next.next\n",
    "            slow = slow.next\n",
    "            if slow == fast:\n",
    "                return True\n",
    "        return False"
   ]
  },
  {
   "cell_type": "code",
   "execution_count": null,
   "id": "c5536373",
   "metadata": {},
   "outputs": [],
   "source": [
    "142. Linked List Cycle II"
   ]
  },
  {
   "cell_type": "code",
   "execution_count": null,
   "id": "40b5b784",
   "metadata": {},
   "outputs": [],
   "source": [
    "class Solution:\n",
    "    def detectCycle(self, head):\n",
    "        slow = fast = head\n",
    "        while fast and fast.next:\n",
    "            slow = slow.next\n",
    "            fast = fast.next.next\n",
    "            if fast == slow:\n",
    "                break\n",
    "        else:\n",
    "            return\n",
    " \n",
    "        slow = head\n",
    "        while slow != fast:\n",
    "            slow = slow.next\n",
    "            fast = fast.next\n",
    "        return slow  "
   ]
  },
  {
   "cell_type": "code",
   "execution_count": null,
   "id": "5afc3d2b",
   "metadata": {},
   "outputs": [],
   "source": [
    "202. Happy Number"
   ]
  },
  {
   "cell_type": "code",
   "execution_count": null,
   "id": "2f27ae24",
   "metadata": {},
   "outputs": [],
   "source": [
    "class Solution(object):\n",
    "        seen = set()\n",
    "        while n not in seen:\n",
    "            seen.add(n)\n",
    "            n = sum([int(i) **2 for i in str(n)])\n",
    "        return n == 1"
   ]
  }
 ],
 "metadata": {
  "kernelspec": {
   "display_name": "Python 3",
   "language": "python",
   "name": "python3"
  },
  "language_info": {
   "codemirror_mode": {
    "name": "ipython",
    "version": 3
   },
   "file_extension": ".py",
   "mimetype": "text/x-python",
   "name": "python",
   "nbconvert_exporter": "python",
   "pygments_lexer": "ipython3",
   "version": "3.8.8"
  }
 },
 "nbformat": 4,
 "nbformat_minor": 5
}
